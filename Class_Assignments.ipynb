{
  "nbformat": 4,
  "nbformat_minor": 0,
  "metadata": {
    "colab": {
      "provenance": [],
      "authorship_tag": "ABX9TyPxdgrelrBSL0SRtNATRQ4d",
      "include_colab_link": true
    },
    "kernelspec": {
      "name": "python3",
      "display_name": "Python 3"
    },
    "language_info": {
      "name": "python"
    }
  },
  "cells": [
    {
      "cell_type": "markdown",
      "metadata": {
        "id": "view-in-github",
        "colab_type": "text"
      },
      "source": [
        "<a href=\"https://colab.research.google.com/github/Ibrah-N/University-Study/blob/main/Class_Assignments.ipynb\" target=\"_parent\"><img src=\"https://colab.research.google.com/assets/colab-badge.svg\" alt=\"Open In Colab\"/></a>"
      ]
    },
    {
      "cell_type": "code",
      "execution_count": 1,
      "metadata": {
        "colab": {
          "base_uri": "https://localhost:8080/"
        },
        "id": "KrXLUzKhpV18",
        "outputId": "b9269d7b-e9e3-41e7-cfc7-8d85a88f78f2"
      },
      "outputs": [
        {
          "output_type": "stream",
          "name": "stdout",
          "text": [
            "Shape 1 has parameters: 5, 3\n",
            "Shape 2 has parameters: 10, 2\n"
          ]
        }
      ],
      "source": [
        "# ASSIGNMENT ### 1\n",
        "\n",
        "# You are tasked with designing a Python class that represents a geometric shape.\n",
        "# The class should have two parameters, parameter1 and parameter2, which define specific\n",
        "# characteristics of the shape.Implement the __init__ method to initialize the object with\n",
        "#  the given parameters.Additionally, implement the __new__ method to control the object\n",
        "#  creation process. Ensure that __new__ properly handles the\n",
        "\n",
        "class GeometricShape:\n",
        "    def __new__(cls, parameter1, parameter2):\n",
        "        if parameter1 <= 0 or parameter2 <= 0:\n",
        "            raise ValueError(\"Parameters must be positive numbers.\")\n",
        "        return super().__new__(cls)\n",
        "\n",
        "    def __init__(self, parameter1, parameter2):\n",
        "        self.parameter1 = parameter1\n",
        "        self.parameter2 = parameter2\n",
        "\n",
        "# Example usage\n",
        "shape1 = GeometricShape(5, 3)\n",
        "shape2 = GeometricShape(10, 2)\n",
        "\n",
        "print(f\"Shape 1 has parameters: {shape1.parameter1}, {shape1.parameter2}\")\n",
        "print(f\"Shape 2 has parameters: {shape2.parameter1}, {shape2.parameter2}\")\n"
      ]
    },
    {
      "cell_type": "code",
      "source": [
        "# ASSIGNMENT ### 2\n",
        "\n",
        "# Imagine you are developing a software system for a zoo. Design a set\n",
        "# of Python classes that represent different animals in the zoo. Use inheritance\n",
        "# to model the relationships between the classes.Create a base class named Animal\n",
        "# with attributes such as name, species, and sound. Include an __init__ method for\n",
        "# initializing these attributes.Implement two or more derived classes( it can be any type. hi\n",
        "\n",
        "# Base class\n",
        "class Animal:\n",
        "    def __init__(self, name, species, sound):\n",
        "        self.name = name\n",
        "        self.species = species\n",
        "        self.sound = sound\n",
        "\n",
        "    def make_sound(self):\n",
        "        print(f\"{self.name} says {self.sound}\")\n",
        "\n",
        "# Derived class for Dog\n",
        "class Dog(Animal):\n",
        "    def __init__(self, name, breed):\n",
        "        super().__init__(name, \"Dog\", \"Woof\")\n",
        "        self.breed = breed\n",
        "\n",
        "# Derived class for Cat\n",
        "class Cat(Animal):\n",
        "    def __init__(self, name, fur_color):\n",
        "        super().__init__(name, \"Cat\", \"Meow\")\n",
        "        self.fur_color = fur_color\n",
        "\n",
        "# Create instances of Dog and Cat classes\n",
        "dog = Dog(\"Rex\", \"Golden Retriever\")\n",
        "cat = Cat(\"Fluffy\", \"White\")\n",
        "\n",
        "# Make the animals make their sounds\n",
        "dog.make_sound()\n",
        "cat.make_sound()\n"
      ],
      "metadata": {
        "colab": {
          "base_uri": "https://localhost:8080/"
        },
        "id": "SdNF3BOJppPF",
        "outputId": "050d8dc0-4a0c-414a-f268-cc91b59ba674"
      },
      "execution_count": 2,
      "outputs": [
        {
          "output_type": "stream",
          "name": "stdout",
          "text": [
            "Rex says Woof\n",
            "Fluffy says Meow\n"
          ]
        }
      ]
    },
    {
      "cell_type": "code",
      "source": [],
      "metadata": {
        "id": "84BaY_OVp2p2"
      },
      "execution_count": null,
      "outputs": []
    }
  ]
}