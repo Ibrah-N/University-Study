{
  "nbformat": 4,
  "nbformat_minor": 0,
  "metadata": {
    "colab": {
      "provenance": [],
      "authorship_tag": "ABX9TyNub1nU521RCXqwi2ZlAJ4U",
      "include_colab_link": true
    },
    "kernelspec": {
      "name": "python3",
      "display_name": "Python 3"
    },
    "language_info": {
      "name": "python"
    }
  },
  "cells": [
    {
      "cell_type": "markdown",
      "metadata": {
        "id": "view-in-github",
        "colab_type": "text"
      },
      "source": [
        "<a href=\"https://colab.research.google.com/github/Ibrah-N/University-Study/blob/main/Ibrhaim_BSDS_A_Assignment.ipynb\" target=\"_parent\"><img src=\"https://colab.research.google.com/assets/colab-badge.svg\" alt=\"Open In Colab\"/></a>"
      ]
    },
    {
      "cell_type": "markdown",
      "source": [
        "# Assignment : 01\n",
        "- Title           : End-To-End Pipelining\n",
        "- Submitted By    : Muhammad Ibrahim\n",
        "- Submitted To    : Prof Adnan Amin\n",
        "- SubmissionDate  : 20-April-2025\n",
        "\n",
        "\n",
        "# Assignments Task List\n",
        "  1. Download Dataset\n",
        "  2. Understand The Dataset\n",
        "  3. Data Preprocessing\n",
        "    - 3.1 Data Analysis\n",
        "    - 3.2 Data Visualization\n",
        "  4. Model Building Without Feature Engineering\n",
        "  5. Apply Feature Engineering & Balancing Technique\n",
        "  6. Retrain The Same Models\n"
      ],
      "metadata": {
        "id": "UnOK4Vx38qrP"
      }
    },
    {
      "cell_type": "markdown",
      "source": [
        "# Assignment Tasks"
      ],
      "metadata": {
        "id": "mUSAbQTG9LG_"
      }
    },
    {
      "cell_type": "code",
      "source": [],
      "metadata": {
        "id": "qPyC-PAY9Kt9"
      },
      "execution_count": null,
      "outputs": []
    },
    {
      "cell_type": "code",
      "source": [],
      "metadata": {
        "id": "1Y-HMwpl9Khx"
      },
      "execution_count": null,
      "outputs": []
    },
    {
      "cell_type": "code",
      "source": [],
      "metadata": {
        "id": "eB6qZ0ZG9KgI"
      },
      "execution_count": null,
      "outputs": []
    },
    {
      "cell_type": "code",
      "source": [],
      "metadata": {
        "id": "PrVNKxEM9Kbt"
      },
      "execution_count": null,
      "outputs": []
    },
    {
      "cell_type": "code",
      "source": [],
      "metadata": {
        "id": "TXAly_UG9KaI"
      },
      "execution_count": null,
      "outputs": []
    },
    {
      "cell_type": "code",
      "source": [],
      "metadata": {
        "id": "Wy6Ytdq19KWv"
      },
      "execution_count": null,
      "outputs": []
    },
    {
      "cell_type": "code",
      "source": [],
      "metadata": {
        "id": "IS4nERvR9KU4"
      },
      "execution_count": null,
      "outputs": []
    },
    {
      "cell_type": "code",
      "execution_count": null,
      "metadata": {
        "id": "H_DjaBag8l2g"
      },
      "outputs": [],
      "source": []
    }
  ]
}